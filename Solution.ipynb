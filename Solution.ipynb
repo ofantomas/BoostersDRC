{
 "cells": [
  {
   "cell_type": "code",
   "execution_count": 2,
   "metadata": {},
   "outputs": [],
   "source": [
    "import numpy as np\n",
    "import pandas as pd\n",
    "\n",
    "from scipy import sparse, stats\n",
    "from sklearn import preprocessing\n",
    "from sklearn.metrics import roc_auc_score\n",
    "\n",
    "from tqdm import tqdm\n",
    "\n",
    "import lightgbm as lgbm\n",
    "import implicit\n",
    "\n",
    "from dataset import ALS_BPR_Dataset\n",
    "from cv import cross_validation_score_statement, cross_validate_model\n",
    "from model import LGBM_model"
   ]
  },
  {
   "cell_type": "markdown",
   "metadata": {},
   "source": [
    "## Get data"
   ]
  },
  {
   "cell_type": "code",
   "execution_count": 3,
   "metadata": {},
   "outputs": [],
   "source": [
    "TRAIN_PATH = 'train/'\n",
    "TEST_PATH = 'test/'"
   ]
  },
  {
   "cell_type": "code",
   "execution_count": 4,
   "metadata": {},
   "outputs": [],
   "source": [
    "X1 = pd.read_csv(TRAIN_PATH + 'X1.csv')\n",
    "X2 = pd.read_csv(TRAIN_PATH + 'X2.csv')\n",
    "X3 = pd.read_csv(TRAIN_PATH + 'X3.csv')\n",
    "\n",
    "Y = pd.read_csv(TRAIN_PATH + 'Y.csv')"
   ]
  },
  {
   "cell_type": "code",
   "execution_count": 5,
   "metadata": {},
   "outputs": [],
   "source": [
    "X1_test = pd.read_csv(TEST_PATH + 'X1.csv')\n",
    "X2_test = pd.read_csv(TEST_PATH + 'X2.csv')\n",
    "X3_test = pd.read_csv(TEST_PATH + 'X3.csv')"
   ]
  },
  {
   "cell_type": "markdown",
   "metadata": {},
   "source": [
    "Concatenate X1 and X1_test and sort them by ids."
   ]
  },
  {
   "cell_type": "code",
   "execution_count": 6,
   "metadata": {},
   "outputs": [],
   "source": [
    "X1_no_id = X1.drop('id', axis='columns')\n",
    "X1__test_no_id = X1_test.drop('id', axis='columns')\n",
    "\n",
    "X1_all = pd.concat((X1, X1_test)).sort_values(by='id').reset_index().drop('index', axis=1)"
   ]
  },
  {
   "cell_type": "markdown",
   "metadata": {},
   "source": [
    "Get amount of ids visited by each user and add this feature to X1 and X1_test."
   ]
  },
  {
   "cell_type": "code",
   "execution_count": 7,
   "metadata": {},
   "outputs": [],
   "source": [
    "X2_user_ids, X2_counts = np.unique(X2['id'], return_counts=True)\n",
    "\n",
    "url_count = np.hstack((X2_user_ids.reshape(-1, 1), X2_counts.reshape(-1, 1)))\n",
    "url_count_df = pd.DataFrame(data=url_count, columns=['id', 'counter'])\n",
    "\n",
    "X1_url_counter = X1.merge(url_count_df, on='id', how='inner')\n",
    "X1_url_counter_no_id = X1_url_counter.drop('id', axis='columns')"
   ]
  },
  {
   "cell_type": "code",
   "execution_count": 8,
   "metadata": {},
   "outputs": [],
   "source": [
    "X2_user_ids_test, X2_counts_test = np.unique(X2_test['id'], return_counts=True)\n",
    "\n",
    "url_count_test = np.hstack((X2_user_ids_test.reshape(-1, 1), X2_counts_test.reshape(-1, 1)))\n",
    "url_count_df_test = pd.DataFrame(data=url_count_test, columns=['id', 'counter'])\n",
    "\n",
    "X1_url_counter_test = X1_test.merge(url_count_df_test, on='id', how='inner')\n",
    "X1_url_counter_no_id_test = X1_url_counter_test.drop('id', axis=1)"
   ]
  },
  {
   "cell_type": "markdown",
   "metadata": {},
   "source": [
    "Concatenate X1_url_counter and X1_url_counter_test and sort them by ids."
   ]
  },
  {
   "cell_type": "code",
   "execution_count": 9,
   "metadata": {},
   "outputs": [],
   "source": [
    "X1_url_counter_all = pd.concat((X1_url_counter, X1_url_counter_test)).sort_values(by='id').reset_index().drop('index', axis=1)"
   ]
  },
  {
   "cell_type": "markdown",
   "metadata": {},
   "source": [
    "Concatenate X2 and X2_test and sort the DataFrame by id."
   ]
  },
  {
   "cell_type": "code",
   "execution_count": 10,
   "metadata": {},
   "outputs": [],
   "source": [
    "X2_all = pd.concat((X2, X2_test), axis=0)"
   ]
  },
  {
   "cell_type": "markdown",
   "metadata": {},
   "source": [
    "Incorporate information from X2 via implicit matrix factorization."
   ]
  },
  {
   "cell_type": "code",
   "execution_count": 20,
   "metadata": {},
   "outputs": [
    {
     "data": {
      "application/vnd.jupyter.widget-view+json": {
       "model_id": "b2ec8efe850f4f88b255c8285bbcea19",
       "version_major": 2,
       "version_minor": 0
      },
      "text/plain": [
       "HBox(children=(IntProgress(value=0, max=120), HTML(value='')))"
      ]
     },
     "metadata": {},
     "output_type": "display_data"
    },
    {
     "name": "stdout",
     "output_type": "stream",
     "text": [
      "\n"
     ]
    },
    {
     "data": {
      "application/vnd.jupyter.widget-view+json": {
       "model_id": "58320820149242a0906444a92d201109",
       "version_major": 2,
       "version_minor": 0
      },
      "text/plain": [
       "HBox(children=(IntProgress(value=0, max=200), HTML(value='')))"
      ]
     },
     "metadata": {},
     "output_type": "display_data"
    },
    {
     "name": "stdout",
     "output_type": "stream",
     "text": [
      "\n"
     ]
    }
   ],
   "source": [
    "ALS_params = {'factors':40, 'iterations':120}\n",
    "BPR_params = {'factors':350, 'iterations':200}\n",
    "config = ['als', 'cat', 'cat', 'bpr', 'bpr']\n",
    "item_user_emb = ['item', {'als':'item', 'bpr':'user'}, {'als':'item', 'bpr':'user'}, 'user', 'user'] \n",
    "\n",
    "dataset_1 = ALS_BPR_Dataset(ALS_params=ALS_params, BPR_params=BPR_params, config=config, item_user_emb=item_user_emb)\n",
    "\n",
    "dataset_1.fit(X1_url_counter_all, X2_all)"
   ]
  },
  {
   "cell_type": "code",
   "execution_count": 21,
   "metadata": {},
   "outputs": [
    {
     "data": {
      "application/vnd.jupyter.widget-view+json": {
       "model_id": "e7f14fd88fea40b3aa02e83354fa4b50",
       "version_major": 2,
       "version_minor": 0
      },
      "text/plain": [
       "HBox(children=(IntProgress(value=0, max=60), HTML(value='')))"
      ]
     },
     "metadata": {},
     "output_type": "display_data"
    },
    {
     "name": "stdout",
     "output_type": "stream",
     "text": [
      "\n"
     ]
    },
    {
     "data": {
      "application/vnd.jupyter.widget-view+json": {
       "model_id": "024f0c635daa4dd4ad0fe39c73c16495",
       "version_major": 2,
       "version_minor": 0
      },
      "text/plain": [
       "HBox(children=(IntProgress(value=0, max=200), HTML(value='')))"
      ]
     },
     "metadata": {},
     "output_type": "display_data"
    },
    {
     "name": "stdout",
     "output_type": "stream",
     "text": [
      "\n"
     ]
    }
   ],
   "source": [
    "ALS_params = {'factors':30, 'iterations':60}\n",
    "BPR_params = {'factors':350, 'iterations':200}\n",
    "config = ['cat', 'bpr', 'bpr', 'cat', 'bpr']\n",
    "item_user_emb = [{'als':'user', 'bpr':'user'}, 'user', 'user', {'als':'user', 'bpr':'user'}, 'user'] \n",
    "\n",
    "dataset_2 = ALS_BPR_Dataset(ALS_params=ALS_params, BPR_params=BPR_params, config=config, item_user_emb=item_user_emb)\n",
    "\n",
    "dataset_2.fit(X1_url_counter_all, X2_all)"
   ]
  },
  {
   "cell_type": "code",
   "execution_count": 22,
   "metadata": {},
   "outputs": [
    {
     "data": {
      "application/vnd.jupyter.widget-view+json": {
       "model_id": "692a278dbaa0453e917863c9ec154390",
       "version_major": 2,
       "version_minor": 0
      },
      "text/plain": [
       "HBox(children=(IntProgress(value=0, max=60), HTML(value='')))"
      ]
     },
     "metadata": {},
     "output_type": "display_data"
    },
    {
     "name": "stdout",
     "output_type": "stream",
     "text": [
      "\n"
     ]
    },
    {
     "data": {
      "application/vnd.jupyter.widget-view+json": {
       "model_id": "df45cdd6a5bb4c68997589cea7a3e078",
       "version_major": 2,
       "version_minor": 0
      },
      "text/plain": [
       "HBox(children=(IntProgress(value=0, max=170), HTML(value='')))"
      ]
     },
     "metadata": {},
     "output_type": "display_data"
    },
    {
     "name": "stdout",
     "output_type": "stream",
     "text": [
      "\n"
     ]
    }
   ],
   "source": [
    "ALS_params = {'factors':40, 'iterations':60}\n",
    "BPR_params = {'factors':350, 'iterations':170}\n",
    "config = ['cat', 'bpr', 'bpr', 'bpr', 'cat']\n",
    "item_user_emb = [{'als':'item', 'bpr':'item'}, 'item', 'item', 'item', {'als':'item', 'bpr':'item'}] \n",
    "\n",
    "dataset_3 = ALS_BPR_Dataset(ALS_params=ALS_params, BPR_params=BPR_params, config=config, item_user_emb=item_user_emb)\n",
    "\n",
    "dataset_3.fit(X1_url_counter_all, X2_all)"
   ]
  },
  {
   "cell_type": "markdown",
   "metadata": {},
   "source": [
    "## Evaluate model's perfomance by cross-validation"
   ]
  },
  {
   "cell_type": "code",
   "execution_count": 23,
   "metadata": {},
   "outputs": [
    {
     "name": "stdout",
     "output_type": "stream",
     "text": [
      "Target 1: mean = 0.6061, std = 0.0246\n",
      "Target 2: mean = 0.6315, std = 0.0087\n",
      "Target 3: mean = 0.6294, std = 0.0135\n",
      "Target 4: mean = 0.6233, std = 0.0124\n",
      "Target 5: mean = 0.6337, std = 0.0163\n",
      "All targets: mean = 0.6248, std = 0.0100\n"
     ]
    }
   ],
   "source": [
    "lgbm_params_1 = [{'learning_rate':0.0017, 'n_estimators':550, 'max_depth':4, 'feature_fraction':0.75}] \\\n",
    "              + 4 * [{'learning_rate':0.004, 'n_estimators':760, 'max_depth':3, 'feature_fraction':0.55}]\n",
    "\n",
    "_ = cross_validate_model(dataset_1, X1.id, Y, lgbm_params_1, use_same_params=False)"
   ]
  },
  {
   "cell_type": "code",
   "execution_count": 24,
   "metadata": {},
   "outputs": [
    {
     "name": "stdout",
     "output_type": "stream",
     "text": [
      "Target 1: mean = 0.6028, std = 0.0243\n",
      "Target 2: mean = 0.6407, std = 0.0125\n",
      "Target 3: mean = 0.6292, std = 0.0167\n",
      "Target 4: mean = 0.6226, std = 0.0112\n",
      "Target 5: mean = 0.6359, std = 0.0108\n",
      "All targets: mean = 0.6262, std = 0.0132\n"
     ]
    }
   ],
   "source": [
    "lgbm_params_2 = {'learning_rate':0.004, 'n_estimators':760, 'max_depth':3, 'feature_fraction':0.55}\n",
    "\n",
    "_ = cross_validate_model(dataset_2, X1.id, Y, lgbm_params_2, use_same_params=True)"
   ]
  },
  {
   "cell_type": "code",
   "execution_count": 25,
   "metadata": {},
   "outputs": [
    {
     "name": "stdout",
     "output_type": "stream",
     "text": [
      "Target 1: mean = 0.6077, std = 0.0270\n",
      "Target 2: mean = 0.6335, std = 0.0146\n",
      "Target 3: mean = 0.6253, std = 0.0139\n",
      "Target 4: mean = 0.6233, std = 0.0184\n",
      "Target 5: mean = 0.6255, std = 0.0153\n",
      "All targets: mean = 0.6231, std = 0.0085\n"
     ]
    }
   ],
   "source": [
    "lgbm_params_3 = {'learning_rate':0.004, 'n_estimators':760, 'max_depth':3, 'feature_fraction':0.55}\n",
    "\n",
    "_ = cross_validate_model(dataset_3, X1.id, Y, lgbm_params_3, use_same_params=True)"
   ]
  },
  {
   "cell_type": "markdown",
   "metadata": {},
   "source": [
    "## Fit models with 10 random seeds and make final predictions"
   ]
  },
  {
   "cell_type": "code",
   "execution_count": 28,
   "metadata": {},
   "outputs": [],
   "source": [
    "lgbm_model_1 = LGBM_model(lgbm_params_1, use_same_params=False)\n",
    "\n",
    "preds_1 = lgbm_model_1.fit_predict_n_random_seed(dataset_1, X1.id, Y, X1_test.id)"
   ]
  },
  {
   "cell_type": "code",
   "execution_count": 29,
   "metadata": {},
   "outputs": [],
   "source": [
    "lgbm_model_2 = LGBM_model(lgbm_params_2, use_same_params=True)\n",
    "\n",
    "preds_2 = lgbm_model_2.fit_predict_n_random_seed(dataset_2, X1.id, Y, X1_test.id)"
   ]
  },
  {
   "cell_type": "code",
   "execution_count": 30,
   "metadata": {},
   "outputs": [],
   "source": [
    "lgbm_model_3 = LGBM_model(lgbm_params_3, use_same_params=True)\n",
    "\n",
    "preds_3 = lgbm_model_3.fit_predict_n_random_seed(dataset_3, X1.id, Y, X1_test.id)"
   ]
  },
  {
   "cell_type": "code",
   "execution_count": 31,
   "metadata": {},
   "outputs": [],
   "source": [
    "final_preds = (preds_1 + preds_2 + preds_3) / 3"
   ]
  },
  {
   "cell_type": "markdown",
   "metadata": {},
   "source": [
    "## Make a submission."
   ]
  },
  {
   "cell_type": "code",
   "execution_count": 33,
   "metadata": {},
   "outputs": [],
   "source": [
    "answers_df = pd.DataFrame(data=final_preds, columns=['1', '2', '3', '4', '5'])\n",
    "answers_df = pd.concat((X1_test['id'], answers_df), axis=1)\n",
    "\n",
    "answers_df.to_csv(\"final_submission.csv\", index=False)"
   ]
  }
 ],
 "metadata": {
  "kernelspec": {
   "display_name": "Python 3",
   "language": "python",
   "name": "python3"
  },
  "language_info": {
   "codemirror_mode": {
    "name": "ipython",
    "version": 3
   },
   "file_extension": ".py",
   "mimetype": "text/x-python",
   "name": "python",
   "nbconvert_exporter": "python",
   "pygments_lexer": "ipython3",
   "version": "3.7.3"
  }
 },
 "nbformat": 4,
 "nbformat_minor": 4
}
